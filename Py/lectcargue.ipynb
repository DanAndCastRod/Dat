{
 "nbformat": 4,
 "nbformat_minor": 2,
 "metadata": {
  "language_info": {
   "name": "python",
   "codemirror_mode": {
    "name": "ipython",
    "version": 3
   },
   "version": "3.7.5-final"
  },
  "orig_nbformat": 2,
  "file_extension": ".py",
  "mimetype": "text/x-python",
  "name": "python",
  "npconvert_exporter": "python",
  "pygments_lexer": "ipython3",
  "version": 3,
  "kernelspec": {
   "name": "python37532bit845e30c6147242198b082be3de6da20c",
   "display_name": "Python 3.7.5 32-bit"
  }
 },
 "cells": [
  {
   "cell_type": "code",
   "execution_count": 14,
   "metadata": {},
   "outputs": [],
   "source": [
    "from xlrd import open_workbook as ow\n",
    "\n",
    "with ow(\"CARGUE MES DE FEBRERO.xlsx\", on_demand= True) as lib:\n",
    "    hoja = lib.sheet_by_index(-2)\n",
    "    "
   ]
  },
  {
   "cell_type": "code",
   "execution_count": 18,
   "metadata": {},
   "outputs": [
    {
     "data": {
      "text/plain": "['#',\n 'Fecha',\n 'Inicio',\n 'Tiempo de cargue',\n 'Fin',\n 'Granja',\n 'GAL',\n 'Sx',\n 'EDAD',\n 'Zon',\n 'Peso',\n 'P/H',\n 'Kg/H',\n 'Carro',\n 'H/C',\n 'P/C',\n 'Llegada',\n 'inicio sacrific',\n 'Duracion',\n 'final Sacrif',\n 'P ',\n '',\n '',\n '',\n '',\n '',\n '',\n '']"
     },
     "execution_count": 18,
     "metadata": {},
     "output_type": "execute_result"
    }
   ],
   "source": [
    "hoja.row_values(8)"
   ]
  },
  {
   "cell_type": "code",
   "execution_count": null,
   "metadata": {},
   "outputs": [],
   "source": []
  }
 ]
}